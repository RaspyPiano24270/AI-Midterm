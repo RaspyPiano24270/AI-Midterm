{
 "cells": [
  {
   "cell_type": "markdown",
   "id": "23f2a2f6",
   "metadata": {},
   "source": [
    "# Data prep"
   ]
  },
  {
   "cell_type": "code",
   "execution_count": 14,
   "id": "653b17e1",
   "metadata": {},
   "outputs": [
    {
     "name": "stdout",
     "output_type": "stream",
     "text": [
      "(50000, 3072)\n",
      "(50000,)\n",
      "(10000, 3072)\n",
      "(10000,)\n"
     ]
    }
   ],
   "source": [
    "import os\n",
    "import numpy as np\n",
    "\n",
    "dir = \"cifar-10-batches-py\"\n",
    "\n",
    "def unpickle(file):\n",
    "    import pickle\n",
    "    with open(file, 'rb') as fo:\n",
    "        dict = pickle.load(fo, encoding='bytes')\n",
    "    return dict\n",
    "#train data\n",
    "train_data = []\n",
    "train_labels = []\n",
    "\n",
    "for i in range(1,6):\n",
    "    data_file = unpickle(dir + f\"\\\\data_batch_{i}\")\n",
    "    train_data.extend(data_file[b\"data\"])\n",
    "    train_labels.extend(data_file[b\"labels\"])\n",
    "#test data\n",
    "test_data = []\n",
    "test_labels = []\n",
    "\n",
    "test_data_file = unpickle(dir + \"\\\\test_batch\")\n",
    "test_data = test_data_file[b\"data\"]\n",
    "\n",
    "test_labels = test_data_file[b\"labels\"]\n",
    "\n",
    "#convert to numpy\n",
    "train_data = np.array(train_data)\n",
    "train_labels = np.array(train_labels)\n",
    "\n",
    "test_data = np.array(test_data)\n",
    "test_labels = np.array(test_labels)\n",
    "\n",
    "#test\n",
    "print(train_data.shape)\n",
    "print(train_labels.shape)\n",
    "print(test_data.shape)\n",
    "print(test_labels.shape)"
   ]
  },
  {
   "cell_type": "code",
   "execution_count": 17,
   "id": "30b934ed",
   "metadata": {},
   "outputs": [
    {
     "name": "stdout",
     "output_type": "stream",
     "text": [
      "(50000, 3072)\n",
      "[[0.23137255 0.16862745 0.19607843 ... 0.54901961 0.32941176 0.28235294]\n",
      " [0.60392157 0.49411765 0.41176471 ... 0.54509804 0.55686275 0.56470588]\n",
      " [1.         0.99215686 0.99215686 ... 0.3254902  0.3254902  0.32941176]\n",
      " ...\n",
      " [0.1372549  0.15686275 0.16470588 ... 0.30196078 0.25882353 0.19607843]\n",
      " [0.74117647 0.72941176 0.7254902  ... 0.6627451  0.67058824 0.67058824]\n",
      " [0.89803922 0.9254902  0.91764706 ... 0.67843137 0.63529412 0.63137255]]\n"
     ]
    }
   ],
   "source": [
    "#put all training data in vertical stack\n",
    "all_train_data = np.vstack(train_data)\n",
    "normalized_train_data = all_train_data / 255.0\n",
    "\n",
    "#test\n",
    "print(normalized_train_data.shape)\n",
    "print(normalized_train_data)\n",
    "\n",
    "all_test_data = np.vstack(test_data)\n",
    "\n",
    "normalized_test_data = all_test_data / 255.0"
   ]
  },
  {
   "cell_type": "markdown",
   "id": "4f6d3592",
   "metadata": {},
   "source": [
    "# KNN"
   ]
  },
  {
   "cell_type": "code",
   "execution_count": 20,
   "id": "d795a601",
   "metadata": {},
   "outputs": [],
   "source": [
    "from sklearn.neighbors import KNeighborsClassifier\n",
    "\n",
    "knn_results = {}\n",
    "\n",
    "for k in range(1,9):\n",
    "    knn = KNeighborsClassifier(k)\n",
    "    knn.fit(normalized_train_data,train_labels)\n",
    "    pred = knn.predict(normalized_test_data)\n",
    "    knn_results[k] = pred"
   ]
  },
  {
   "cell_type": "code",
   "execution_count": 21,
   "id": "7982400b",
   "metadata": {},
   "outputs": [
    {
     "name": "stdout",
     "output_type": "stream",
     "text": [
      "k = (1, array([4, 8, 8, ..., 5, 3, 4], shape=(10000,))) accuracy: 0.3415\n",
      "k = (2, array([2, 1, 8, ..., 5, 3, 4], shape=(10000,))) accuracy: 0.3415\n",
      "k = (3, array([2, 8, 8, ..., 5, 6, 4], shape=(10000,))) accuracy: 0.3415\n",
      "k = (4, array([2, 8, 8, ..., 5, 6, 4], shape=(10000,))) accuracy: 0.3415\n",
      "k = (5, array([2, 8, 8, ..., 5, 6, 4], shape=(10000,))) accuracy: 0.3415\n",
      "k = (6, array([2, 8, 8, ..., 5, 6, 4], shape=(10000,))) accuracy: 0.3415\n",
      "k = (7, array([2, 8, 8, ..., 5, 6, 4], shape=(10000,))) accuracy: 0.3415\n",
      "k = (8, array([2, 8, 8, ..., 5, 6, 4], shape=(10000,))) accuracy: 0.3415\n"
     ]
    }
   ],
   "source": [
    "from sklearn.metrics import accuracy_score\n",
    "\n",
    "for k in knn_results.items():\n",
    "    print(f\"k = {k} accuracy: {accuracy_score(test_labels, pred)}\")"
   ]
  },
  {
   "cell_type": "markdown",
   "id": "7fe67893",
   "metadata": {},
   "source": [
    "# Decision Tree"
   ]
  },
  {
   "cell_type": "code",
   "execution_count": 23,
   "id": "c08fa2a3",
   "metadata": {},
   "outputs": [
    {
     "name": "stdout",
     "output_type": "stream",
     "text": [
      "0.2851\n"
     ]
    }
   ],
   "source": [
    "from sklearn.tree import DecisionTreeClassifier\n",
    "#max depth = 15\n",
    "dt = DecisionTreeClassifier(random_state=1, max_depth=15)\n",
    "\n",
    "dt.fit(normalized_train_data, train_labels)\n",
    "\n",
    "pred = dt.predict(normalized_test_data)\n",
    "\n",
    "print(accuracy_score(test_labels, pred))"
   ]
  },
  {
   "cell_type": "code",
   "execution_count": 24,
   "id": "2cac8d88",
   "metadata": {},
   "outputs": [
    {
     "name": "stdout",
     "output_type": "stream",
     "text": [
      "0.2714\n"
     ]
    }
   ],
   "source": [
    "#max depth = 25\n",
    "dt = DecisionTreeClassifier(random_state=1, max_depth=25)\n",
    "\n",
    "dt.fit(normalized_train_data, train_labels)\n",
    "\n",
    "pred = dt.predict(normalized_test_data)\n",
    "\n",
    "print(accuracy_score(test_labels, pred))"
   ]
  },
  {
   "cell_type": "markdown",
   "id": "2d707f2c",
   "metadata": {},
   "source": [
    "# Random Forest"
   ]
  },
  {
   "cell_type": "code",
   "execution_count": 26,
   "id": "878a9c2f",
   "metadata": {},
   "outputs": [
    {
     "name": "stdout",
     "output_type": "stream",
     "text": [
      "0.4664\n"
     ]
    }
   ],
   "source": [
    "from sklearn.ensemble import RandomForestClassifier\n",
    "#estimators = 100\n",
    "rf = RandomForestClassifier(n_estimators=100)\n",
    "rf.fit(normalized_train_data, train_labels)\n",
    "pred = rf.predict(normalized_test_data)\n",
    "\n",
    "print(accuracy_score(test_labels, pred))"
   ]
  },
  {
   "cell_type": "code",
   "execution_count": 27,
   "id": "d4979542",
   "metadata": {},
   "outputs": [
    {
     "name": "stdout",
     "output_type": "stream",
     "text": [
      "0.4832\n"
     ]
    }
   ],
   "source": [
    "#estimators = 150\n",
    "rf = RandomForestClassifier(n_estimators=150)\n",
    "rf.fit(normalized_train_data, train_labels)\n",
    "pred = rf.predict(normalized_test_data)\n",
    "\n",
    "print(accuracy_score(test_labels, pred))"
   ]
  },
  {
   "cell_type": "markdown",
   "id": "fbc07591",
   "metadata": {},
   "source": [
    "# SVM"
   ]
  },
  {
   "cell_type": "code",
   "execution_count": 28,
   "id": "cf0199a8",
   "metadata": {},
   "outputs": [
    {
     "name": "stdout",
     "output_type": "stream",
     "text": [
      "0.5437\n"
     ]
    }
   ],
   "source": [
    "from sklearn.svm import SVC\n",
    "\n",
    "svc = SVC(C=1.0)\n",
    "svc.fit(normalized_train_data, train_labels)\n",
    "pred = svc.predict(normalized_test_data)\n",
    "\n",
    "print(accuracy_score(test_labels, pred))"
   ]
  },
  {
   "cell_type": "code",
   "execution_count": 29,
   "id": "aceba491",
   "metadata": {},
   "outputs": [
    {
     "name": "stdout",
     "output_type": "stream",
     "text": [
      "C = 0.5, accuracy: 0.5193\n"
     ]
    }
   ],
   "source": [
    "svc = SVC(C=0.5)\n",
    "svc.fit(normalized_train_data, train_labels)\n",
    "pred = svc.predict(normalized_test_data)\n",
    "\n",
    "print(f\"C = 0.5, accuracy: {accuracy_score(test_labels, pred)}\")"
   ]
  },
  {
   "cell_type": "code",
   "execution_count": null,
   "id": "184ab756",
   "metadata": {},
   "outputs": [],
   "source": [
    "svc = SVC(C=12.0)\n",
    "svc.fit(normalized_train_data, train_labels)\n",
    "pred = svc.predict(normalized_test_data)\n",
    "\n",
    "print(f\"C = 12.0, accuracy: {accuracy_score(test_labels, pred)}\")"
   ]
  },
  {
   "cell_type": "markdown",
   "id": "20f5e17f",
   "metadata": {},
   "source": [
    "# MLP"
   ]
  }
 ],
 "metadata": {
  "kernelspec": {
   "display_name": "Python 3",
   "language": "python",
   "name": "python3"
  },
  "language_info": {
   "codemirror_mode": {
    "name": "ipython",
    "version": 3
   },
   "file_extension": ".py",
   "mimetype": "text/x-python",
   "name": "python",
   "nbconvert_exporter": "python",
   "pygments_lexer": "ipython3",
   "version": "3.12.6"
  }
 },
 "nbformat": 4,
 "nbformat_minor": 5
}
